{
 "cells": [
  {
   "cell_type": "markdown",
   "metadata": {},
   "source": [
    "# Project 3 plan: Fractals, Chaos and Jackson Pollock"
   ]
  },
  {
   "cell_type": "markdown",
   "metadata": {},
   "source": [
    "**Olivia Gough / 170060840**<br>\n",
    " This project was inspired by the work of Jackson Pollock, and largely based on the work of Professor Richard Taylor of the University of Oregon, whose work pertains to the visual science of fractals. I'm very interested in how art and mathematics are related, given that they're two of my major interests and hope to explore this idea further. Pollock's famous splattered paintings have been analysed and shown to have fractal qualities, that is from the Latin term 'fractus' meaning broken, which describes something that has a very similar appearance at any magnification. In other words, a small part of the structure looks very much like the whole. Professor Richard Taylor, a physicist as well as an artist, created a device he called the 'Pollockiser'; a kicked pendulum that splatters paint onto a canvas creating images similar to that of Pollock. I hope to be able to write code to simulate this.<br><br>\n",
    "This report will be in three main sections; the first section will be exploring types of fractals, the second will be investigating different pendulum simulations and the third will focus on combining these to hopefully create some visuals sharing likeness to Pollock."
   ]
  },
  {
   "cell_type": "markdown",
   "metadata": {},
   "source": [
    "## Summary\n",
    "Below is a brief summary of what will be in each section of this report;<br>\n",
    "\n",
    "**Exploring Fractals**<br>\n",
    "- Brief historical context<br>\n",
    "- Mandelbrot set<br>\n",
    "- Julia set<br>\n",
    "- Koch snowflake<br>\n",
    "- Feigenbaum's constant<br>\n",
    "- Properties of fractals<br><br>\n",
    "\n",
    "**Exploring Chaos**<br>\n",
    "- Pendulum simulation<br>\n",
    "- Double Pendulum simulation<br>\n",
    "- ‘n’ pendulum with RNG<br>\n",
    "- Visualisation and analysis<br><br>\n",
    "\n",
    "**Jackson Pollock**<br>\n",
    "- Analysing the fractal qualities of Pollock’s work<br>\n",
    "- Richard Taylor work<br>\n",
    "- ‘Pollockiser’ simulation (kicked pendulum)<br><br>\n",
    "\n",
    "**Useful References**<br>\n",
    "- [[1](http://authenticationinart.org/pdf/literature/Richard-P.-TaylorOrder-in-Pollocks-Chaos.pdf)] : Order in Pollock's Chaos - Taylor, Richard (2012)<br> \n",
    "- [[2](https://blogs.uoregon.edu/richardtaylor/2017/01/04/the-facts-about-pollocks-fractals/)] : Facts about Pollock's Fractals - Taylor, Richard (2017)<br>\n",
    "- [[3](https://pdfs.semanticscholar.org/3f50/0956057ae2cf15a6168621e008edb012dae2.pdf)] : Fractals: A Resonance between Art and Nature - Taylor, Richard et al (2005)<br>\n",
    "- [4] : 'The fractal geometry of nature' - Mandelbrot, Benoit (1983)"
   ]
  }
 ],
 "metadata": {
  "kernelspec": {
   "display_name": "Python 3",
   "language": "python",
   "name": "python3"
  },
  "language_info": {
   "codemirror_mode": {
    "name": "ipython",
    "version": 3
   },
   "file_extension": ".py",
   "mimetype": "text/x-python",
   "name": "python",
   "nbconvert_exporter": "python",
   "pygments_lexer": "ipython3",
   "version": "3.7.1"
  }
 },
 "nbformat": 4,
 "nbformat_minor": 2
}
